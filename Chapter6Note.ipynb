{
 "cells": [
  {
   "cell_type": "markdown",
   "metadata": {},
   "source": [
    "## Chapter6 抽象"
   ]
  },
  {
   "cell_type": "markdown",
   "metadata": {},
   "source": [
    "2018.10.16"
   ]
  },
  {
   "cell_type": "markdown",
   "metadata": {},
   "source": [
    "### 1. 关于两个变量同时引用同一个列表"
   ]
  },
  {
   "cell_type": "code",
   "execution_count": 2,
   "metadata": {
    "collapsed": true
   },
   "outputs": [],
   "source": [
    "a = [1,2,3]\n",
    "b = a\n",
    "b[0] = 2"
   ]
  },
  {
   "cell_type": "code",
   "execution_count": 5,
   "metadata": {
    "collapsed": false
   },
   "outputs": [
    {
     "data": {
      "text/plain": [
       "[2, 2, 3]"
      ]
     },
     "execution_count": 5,
     "metadata": {},
     "output_type": "execute_result"
    }
   ],
   "source": [
    "b"
   ]
  },
  {
   "cell_type": "code",
   "execution_count": 6,
   "metadata": {
    "collapsed": false
   },
   "outputs": [
    {
     "data": {
      "text/plain": [
       "[2, 2, 3]"
      ]
     },
     "execution_count": 6,
     "metadata": {},
     "output_type": "execute_result"
    }
   ],
   "source": [
    "a"
   ]
  },
  {
   "cell_type": "markdown",
   "metadata": {},
   "source": [
    "可以看到不仅b被改变了，而且a同时也被改变了。这使我们丧失了原始数据。"
   ]
  },
  {
   "cell_type": "markdown",
   "metadata": {},
   "source": [
    "解决办法是生成一个a的副本进行操作，而不是直接用 b = a 这样的赋值语句"
   ]
  },
  {
   "cell_type": "code",
   "execution_count": 8,
   "metadata": {
    "collapsed": true
   },
   "outputs": [],
   "source": [
    "a = [1,2,3]\n",
    "b = a[:]\n",
    "b[0] = 2"
   ]
  },
  {
   "cell_type": "code",
   "execution_count": 9,
   "metadata": {
    "collapsed": false
   },
   "outputs": [
    {
     "data": {
      "text/plain": [
       "[2, 2, 3]"
      ]
     },
     "execution_count": 9,
     "metadata": {},
     "output_type": "execute_result"
    }
   ],
   "source": [
    "b"
   ]
  },
  {
   "cell_type": "code",
   "execution_count": 10,
   "metadata": {
    "collapsed": false
   },
   "outputs": [
    {
     "data": {
      "text/plain": [
       "[1, 2, 3]"
      ]
     },
     "execution_count": 10,
     "metadata": {},
     "output_type": "execute_result"
    }
   ],
   "source": [
    "a"
   ]
  },
  {
   "cell_type": "markdown",
   "metadata": {},
   "source": [
    "此时a并没有被改变，保持了原来数据的安全。"
   ]
  },
  {
   "cell_type": "markdown",
   "metadata": {},
   "source": [
    "### 2. 一种元组的写法"
   ]
  },
  {
   "cell_type": "code",
   "execution_count": 13,
   "metadata": {
    "collapsed": false
   },
   "outputs": [
    {
     "data": {
      "text/plain": [
       "('REN', 'TONG', 'XIN')"
      ]
     },
     "execution_count": 13,
     "metadata": {},
     "output_type": "execute_result"
    }
   ],
   "source": [
    "labels = 'REN','TONG','XIN'\n",
    "labels"
   ]
  },
  {
   "cell_type": "markdown",
   "metadata": {},
   "source": [
    "这说明元组在定义时可以省略括号"
   ]
  },
  {
   "cell_type": "markdown",
   "metadata": {},
   "source": [
    "### 3.关键字参数和默认值"
   ]
  },
  {
   "cell_type": "code",
   "execution_count": 16,
   "metadata": {
    "collapsed": false
   },
   "outputs": [],
   "source": [
    "def HelloWorld(name = 'REN TONG XIN',greeting = 'Hello, '):\n",
    "    print(greeting,name)"
   ]
  },
  {
   "cell_type": "code",
   "execution_count": 20,
   "metadata": {
    "collapsed": false
   },
   "outputs": [
    {
     "name": "stdout",
     "output_type": "stream",
     "text": [
      "Hi, RTX\n"
     ]
    }
   ],
   "source": [
    "HelloWorld(greeting= \"Hi,\",name='RTX')"
   ]
  },
  {
   "cell_type": "markdown",
   "metadata": {},
   "source": [
    "使用关键词参数并定义默认值的好处是，不用考虑每个参数的顺序，并且可以输入少于变量个数的参数。唯一的缺点是有的时候代码比较长。"
   ]
  },
  {
   "cell_type": "markdown",
   "metadata": {},
   "source": [
    "### 4.收集参数"
   ]
  },
  {
   "cell_type": "code",
   "execution_count": 21,
   "metadata": {
    "collapsed": true
   },
   "outputs": [],
   "source": [
    "def PrintParam(x,y,z=3,*pospar,**keypar):\n",
    "    print(x,y,z)\n",
    "    print(pospar)\n",
    "    print(keypar)"
   ]
  },
  {
   "cell_type": "code",
   "execution_count": 22,
   "metadata": {
    "collapsed": false
   },
   "outputs": [
    {
     "name": "stdout",
     "output_type": "stream",
     "text": [
      "1 2 4\n",
      "(5, 6)\n",
      "{'a': 'Ren', 'b': 3}\n"
     ]
    }
   ],
   "source": [
    "PrintParam(1,2,4,5,6,a = 'Ren',b =3)"
   ]
  },
  {
   "cell_type": "markdown",
   "metadata": {},
   "source": [
    "可以看到，输入的参数在函数内容进行了转化，普通的位置参数比较容易理解，关键字参数被转化为了字典，可以进行读取。"
   ]
  },
  {
   "cell_type": "markdown",
   "metadata": {},
   "source": [
    "### 5.一个使用参数的练习"
   ]
  },
  {
   "cell_type": "markdown",
   "metadata": {},
   "source": [
    "关键在于了解星号和双星号的用法"
   ]
  },
  {
   "cell_type": "code",
   "execution_count": 23,
   "metadata": {
    "collapsed": true
   },
   "outputs": [],
   "source": [
    "def story(**kwds):\n",
    "    return 'Once upon a time, there was a %(job)s called %(name)s.' %kwds"
   ]
  },
  {
   "cell_type": "code",
   "execution_count": 24,
   "metadata": {
    "collapsed": false
   },
   "outputs": [
    {
     "data": {
      "text/plain": [
       "'Once upon a time, there was a Teacher called Rtx.'"
      ]
     },
     "execution_count": 24,
     "metadata": {},
     "output_type": "execute_result"
    }
   ],
   "source": [
    "story(job = 'Teacher',name = 'Rtx')"
   ]
  },
  {
   "cell_type": "code",
   "execution_count": 25,
   "metadata": {
    "collapsed": false
   },
   "outputs": [
    {
     "name": "stdout",
     "output_type": "stream",
     "text": [
      "Once upon a time, there was a Teacher called Rtx.\n"
     ]
    }
   ],
   "source": [
    "print(story(job = 'Teacher',name = 'Rtx'))"
   ]
  },
  {
   "cell_type": "code",
   "execution_count": 26,
   "metadata": {
    "collapsed": true
   },
   "outputs": [],
   "source": [
    "params = {'job':'Language','name':'Python'}"
   ]
  },
  {
   "cell_type": "code",
   "execution_count": 27,
   "metadata": {
    "collapsed": false
   },
   "outputs": [
    {
     "name": "stdout",
     "output_type": "stream",
     "text": [
      "Once upon a time, there was a Language called Python.\n"
     ]
    }
   ],
   "source": [
    "print(story(**params))"
   ]
  },
  {
   "cell_type": "markdown",
   "metadata": {},
   "source": [
    "### 6. 关于zip函数"
   ]
  },
  {
   "cell_type": "code",
   "execution_count": 35,
   "metadata": {
    "collapsed": true
   },
   "outputs": [],
   "source": [
    "Names = ['An','Bb','Se','Er']\n",
    "ages = [12,34,56,1]"
   ]
  },
  {
   "cell_type": "code",
   "execution_count": 40,
   "metadata": {
    "collapsed": false
   },
   "outputs": [
    {
     "name": "stdout",
     "output_type": "stream",
     "text": [
      "An is 12 years old.\n",
      "Bb is 34 years old.\n",
      "Se is 56 years old.\n",
      "Er is 1 years old.\n"
     ]
    }
   ],
   "source": [
    "for name, age in zip(Names,ages):\n",
    "    print(name,'is',age,'years old.')"
   ]
  },
  {
   "cell_type": "markdown",
   "metadata": {},
   "source": [
    "### 7. 作用域"
   ]
  },
  {
   "cell_type": "code",
   "execution_count": 52,
   "metadata": {
    "collapsed": false
   },
   "outputs": [],
   "source": [
    "scope = vars()"
   ]
  },
  {
   "cell_type": "code",
   "execution_count": 56,
   "metadata": {
    "collapsed": false
   },
   "outputs": [
    {
     "data": {
      "text/plain": [
       "['An', 'Bb', 'Se', 'Er']"
      ]
     },
     "execution_count": 56,
     "metadata": {},
     "output_type": "execute_result"
    }
   ],
   "source": [
    "scope['Names']"
   ]
  },
  {
   "cell_type": "code",
   "execution_count": 57,
   "metadata": {
    "collapsed": false
   },
   "outputs": [],
   "source": [
    "globalcode = '2'\n",
    "def combine(parameter):\n",
    "    print(parameter +  globalcode)"
   ]
  },
  {
   "cell_type": "code",
   "execution_count": 58,
   "metadata": {
    "collapsed": false
   },
   "outputs": [
    {
     "name": "stdout",
     "output_type": "stream",
     "text": [
      "1232\n"
     ]
    }
   ],
   "source": [
    "combine('123')"
   ]
  },
  {
   "cell_type": "raw",
   "metadata": {},
   "source": [
    "如果在函数内部想定义全局变量，方法为global"
   ]
  },
  {
   "cell_type": "code",
   "execution_count": 64,
   "metadata": {
    "collapsed": true
   },
   "outputs": [],
   "source": [
    "def change_global():\n",
    "    global y\n",
    "    y = x + 1"
   ]
  },
  {
   "cell_type": "code",
   "execution_count": 65,
   "metadata": {
    "collapsed": true
   },
   "outputs": [],
   "source": [
    "x = 1"
   ]
  },
  {
   "cell_type": "code",
   "execution_count": 66,
   "metadata": {
    "collapsed": false
   },
   "outputs": [],
   "source": [
    "change_global()"
   ]
  },
  {
   "cell_type": "code",
   "execution_count": 68,
   "metadata": {
    "collapsed": false
   },
   "outputs": [
    {
     "data": {
      "text/plain": [
       "2"
      ]
     },
     "execution_count": 68,
     "metadata": {},
     "output_type": "execute_result"
    }
   ],
   "source": [
    "y"
   ]
  },
  {
   "cell_type": "code",
   "execution_count": 70,
   "metadata": {
    "collapsed": true
   },
   "outputs": [
    {
     "data": {
      "text/plain": [
       "{'HelloWorld': <function __main__.HelloWorld>,\n",
       " 'In': ['',\n",
       "  '关于两个变量同时引用同一个列表',\n",
       "  'a = [1,2,3]',\n",
       "  'b = a',\n",
       "  'b[0] = 2',\n",
       "  'b',\n",
       "  'a',\n",
       "  '解决办法是生成一个a的副本进行操作，而不是直接用 b = a 这样的赋值语句',\n",
       "  'a = [1,2,3]\\nb = a[:]\\nb[0] = 2',\n",
       "  'b',\n",
       "  'a',\n",
       "  \"labels = 'REN','TONG','XIN'\",\n",
       "  \"labels = 'REN','TONG','XIN'\\nlabels\",\n",
       "  \"labels = 'REN','TONG','XIN'\\nlabels\",\n",
       "  \"def HelloWorld(name = 'REN TONG XIN',greeting = 'Hello, ')\\n    print(greeting,name)\",\n",
       "  \"def HelloWorld(name = 'REN TONG XIN',greeting = 'Hello, ')：\\n    print(greeting,name)\",\n",
       "  \"def HelloWorld(name = 'REN TONG XIN',greeting = 'Hello, '):\\n    print(greeting,name)\",\n",
       "  'HelloWorld',\n",
       "  'HelloWorld()',\n",
       "  'HelloWorld(greeting= \"Hi\",name=\\'RTX\\')',\n",
       "  'HelloWorld(greeting= \"Hi,\",name=\\'RTX\\')',\n",
       "  'def PrintParam(x,y,z=3,*pospar,**keypar):\\n    print(x,y,z)\\n    print(pospar)\\n    print(keypar)',\n",
       "  \"PrintParam(1,2,4,5,6,a = 'Ren',b =3)\",\n",
       "  \"def story(**kwds):\\n    return 'Once upon a time, there was a %(job)s called %(name)s.' %kwds\",\n",
       "  \"story(job = 'Teacher',name = 'Rtx')\",\n",
       "  \"print(story(job = 'Teacher',name = 'Rtx'))\",\n",
       "  \"params = {'job':'Language','name':'Python'}\",\n",
       "  'print(story(**params))',\n",
       "  \"Names = ['an','bb','se','er']\\nages = [12,34,56,1]\",\n",
       "  \"for name age in zip(Names,ages):\\n    pring(name,'is',age,'years old.')\",\n",
       "  \"for name, age in zip(Names,ages):\\n    pring(name,'is',age,'years old.')\",\n",
       "  \"for name, age in zip(Names,ages):\\n    pring(tame,'is',age,'years old.')\",\n",
       "  \"for name, age in zip(Names,ages):\\n    print(tame,'is',age,'years old.')\",\n",
       "  \"for name, age in zip(Names,ages):\\n    print(name,'is',age,'years old.')\",\n",
       "  \"for name, age in zip(Names,ages):\\n    print(name,'is',age,'years old.\\\\n')\",\n",
       "  \"Names = ['An','Bb','Se','Er']\\nages = [12,34,56,1]\",\n",
       "  \"for name, age in zip(Names,ages):\\n    print(name,'is',age,'years old.\\\\n')\",\n",
       "  \"for name, age in zip(Names,ages):\\n    print(name,'is',age,'years old.\\\\')\",\n",
       "  \"for name, age in zip(Names,ages):\\n    print(name,'is',age,'years old.')\",\n",
       "  \"for name, age in zip(Names,ages):\\n    print(name,'is',age,'years old.\\\\lambda')\",\n",
       "  \"for name, age in zip(Names,ages):\\n    print(name,'is',age,'years old.')\",\n",
       "  'vars()',\n",
       "  'scope = vars()',\n",
       "  'scope.Names',\n",
       "  \"scope['Names']\",\n",
       "  'def combine(parameter):\\n    print(parameter + globalcode)',\n",
       "  \"combine('123')\",\n",
       "  \"globalcode = '2'\\ndef combine(parameter):\\n    print(parameter + globalcode)\",\n",
       "  \"combine('123')\",\n",
       "  \"globalcode = '2'\\ndef combine(parameter):\\n    print(parameter + global globalcode)\",\n",
       "  \"globalcode = '2'\\ndef combine(parameter):\\n    global globalcode\\n    print(parameter +  globalcode)\",\n",
       "  \"combine('123')\",\n",
       "  'scope = vars()',\n",
       "  \"scope['Names']\",\n",
       "  \"globalcode = '2'\\ndef combine(parameter):\\n    global globalcode\\n    print(parameter +  globalcode)\",\n",
       "  \"combine('123')\",\n",
       "  \"scope['Names']\",\n",
       "  \"globalcode = '2'\\ndef combine(parameter):\\n    print(parameter +  globalcode)\",\n",
       "  \"combine('123')\",\n",
       "  'def change_global():\\n    global x\\n    x = x + 1',\n",
       "  'x = 1',\n",
       "  'change_global(x)',\n",
       "  'change_global()',\n",
       "  'x',\n",
       "  'def change_global():\\n    global y\\n    y = x + 1',\n",
       "  'x = 1',\n",
       "  'change_global()',\n",
       "  'x',\n",
       "  'y',\n",
       "  'globals()',\n",
       "  'globals() ##返回全部变量的字典'],\n",
       " 'Names': ['An', 'Bb', 'Se', 'Er'],\n",
       " 'Out': {5: [2, 2, 3],\n",
       "  6: [2, 2, 3],\n",
       "  9: [2, 2, 3],\n",
       "  10: [1, 2, 3],\n",
       "  12: ('REN', 'TONG', 'XIN'),\n",
       "  13: ('REN', 'TONG', 'XIN'),\n",
       "  17: <function __main__.HelloWorld>,\n",
       "  24: 'Once upon a time, there was a Teacher called Rtx.',\n",
       "  41: {...},\n",
       "  44: ['An', 'Bb', 'Se', 'Er'],\n",
       "  53: ['An', 'Bb', 'Se', 'Er'],\n",
       "  56: ['An', 'Bb', 'Se', 'Er'],\n",
       "  63: 2,\n",
       "  67: 1,\n",
       "  68: 2,\n",
       "  69: {...}},\n",
       " 'PrintParam': <function __main__.PrintParam>,\n",
       " '_': {...},\n",
       " '_10': [1, 2, 3],\n",
       " '_12': ('REN', 'TONG', 'XIN'),\n",
       " '_13': ('REN', 'TONG', 'XIN'),\n",
       " '_17': <function __main__.HelloWorld>,\n",
       " '_24': 'Once upon a time, there was a Teacher called Rtx.',\n",
       " '_41': {...},\n",
       " '_44': ['An', 'Bb', 'Se', 'Er'],\n",
       " '_5': [2, 2, 3],\n",
       " '_53': ['An', 'Bb', 'Se', 'Er'],\n",
       " '_56': ['An', 'Bb', 'Se', 'Er'],\n",
       " '_6': [2, 2, 3],\n",
       " '_63': 2,\n",
       " '_67': 1,\n",
       " '_68': 2,\n",
       " '_69': {...},\n",
       " '_9': [2, 2, 3],\n",
       " '__': 2,\n",
       " '___': 1,\n",
       " '__builtin__': <module 'builtins' (built-in)>,\n",
       " '__builtins__': <module 'builtins' (built-in)>,\n",
       " '__doc__': 'Automatically created module for IPython interactive environment',\n",
       " '__loader__': None,\n",
       " '__name__': '__main__',\n",
       " '__package__': None,\n",
       " '__spec__': None,\n",
       " '_dh': ['C:\\\\Users\\\\admin\\\\Documents\\\\JP_NOTE\\\\PythonBasisLearningNotes'],\n",
       " '_i': 'globals()',\n",
       " '_i1': '关于两个变量同时引用同一个列表',\n",
       " '_i10': 'a',\n",
       " '_i11': \"labels = 'REN','TONG','XIN'\",\n",
       " '_i12': \"labels = 'REN','TONG','XIN'\\nlabels\",\n",
       " '_i13': \"labels = 'REN','TONG','XIN'\\nlabels\",\n",
       " '_i14': \"def HelloWorld(name = 'REN TONG XIN',greeting = 'Hello, ')\\n    print(greeting,name)\",\n",
       " '_i15': \"def HelloWorld(name = 'REN TONG XIN',greeting = 'Hello, ')：\\n    print(greeting,name)\",\n",
       " '_i16': \"def HelloWorld(name = 'REN TONG XIN',greeting = 'Hello, '):\\n    print(greeting,name)\",\n",
       " '_i17': 'HelloWorld',\n",
       " '_i18': 'HelloWorld()',\n",
       " '_i19': 'HelloWorld(greeting= \"Hi\",name=\\'RTX\\')',\n",
       " '_i2': 'a = [1,2,3]',\n",
       " '_i20': 'HelloWorld(greeting= \"Hi,\",name=\\'RTX\\')',\n",
       " '_i21': 'def PrintParam(x,y,z=3,*pospar,**keypar):\\n    print(x,y,z)\\n    print(pospar)\\n    print(keypar)',\n",
       " '_i22': \"PrintParam(1,2,4,5,6,a = 'Ren',b =3)\",\n",
       " '_i23': \"def story(**kwds):\\n    return 'Once upon a time, there was a %(job)s called %(name)s.' %kwds\",\n",
       " '_i24': \"story(job = 'Teacher',name = 'Rtx')\",\n",
       " '_i25': \"print(story(job = 'Teacher',name = 'Rtx'))\",\n",
       " '_i26': \"params = {'job':'Language','name':'Python'}\",\n",
       " '_i27': 'print(story(**params))',\n",
       " '_i28': \"Names = ['an','bb','se','er']\\nages = [12,34,56,1]\",\n",
       " '_i29': \"for name age in zip(Names,ages):\\n    pring(name,'is',age,'years old.')\",\n",
       " '_i3': 'b = a',\n",
       " '_i30': \"for name, age in zip(Names,ages):\\n    pring(name,'is',age,'years old.')\",\n",
       " '_i31': \"for name, age in zip(Names,ages):\\n    pring(tame,'is',age,'years old.')\",\n",
       " '_i32': \"for name, age in zip(Names,ages):\\n    print(tame,'is',age,'years old.')\",\n",
       " '_i33': \"for name, age in zip(Names,ages):\\n    print(name,'is',age,'years old.')\",\n",
       " '_i34': \"for name, age in zip(Names,ages):\\n    print(name,'is',age,'years old.\\\\n')\",\n",
       " '_i35': \"Names = ['An','Bb','Se','Er']\\nages = [12,34,56,1]\",\n",
       " '_i36': \"for name, age in zip(Names,ages):\\n    print(name,'is',age,'years old.\\\\n')\",\n",
       " '_i37': \"for name, age in zip(Names,ages):\\n    print(name,'is',age,'years old.\\\\')\",\n",
       " '_i38': \"for name, age in zip(Names,ages):\\n    print(name,'is',age,'years old.')\",\n",
       " '_i39': \"for name, age in zip(Names,ages):\\n    print(name,'is',age,'years old.\\\\lambda')\",\n",
       " '_i4': 'b[0] = 2',\n",
       " '_i40': \"for name, age in zip(Names,ages):\\n    print(name,'is',age,'years old.')\",\n",
       " '_i41': 'vars()',\n",
       " '_i42': 'scope = vars()',\n",
       " '_i43': 'scope.Names',\n",
       " '_i44': \"scope['Names']\",\n",
       " '_i45': 'def combine(parameter):\\n    print(parameter + globalcode)',\n",
       " '_i46': \"combine('123')\",\n",
       " '_i47': \"globalcode = '2'\\ndef combine(parameter):\\n    print(parameter + globalcode)\",\n",
       " '_i48': \"combine('123')\",\n",
       " '_i49': \"globalcode = '2'\\ndef combine(parameter):\\n    print(parameter + global globalcode)\",\n",
       " '_i5': 'b',\n",
       " '_i50': \"globalcode = '2'\\ndef combine(parameter):\\n    global globalcode\\n    print(parameter +  globalcode)\",\n",
       " '_i51': \"combine('123')\",\n",
       " '_i52': 'scope = vars()',\n",
       " '_i53': \"scope['Names']\",\n",
       " '_i54': \"globalcode = '2'\\ndef combine(parameter):\\n    global globalcode\\n    print(parameter +  globalcode)\",\n",
       " '_i55': \"combine('123')\",\n",
       " '_i56': \"scope['Names']\",\n",
       " '_i57': \"globalcode = '2'\\ndef combine(parameter):\\n    print(parameter +  globalcode)\",\n",
       " '_i58': \"combine('123')\",\n",
       " '_i59': 'def change_global():\\n    global x\\n    x = x + 1',\n",
       " '_i6': 'a',\n",
       " '_i60': 'x = 1',\n",
       " '_i61': 'change_global(x)',\n",
       " '_i62': 'change_global()',\n",
       " '_i63': 'x',\n",
       " '_i64': 'def change_global():\\n    global y\\n    y = x + 1',\n",
       " '_i65': 'x = 1',\n",
       " '_i66': 'change_global()',\n",
       " '_i67': 'x',\n",
       " '_i68': 'y',\n",
       " '_i69': 'globals()',\n",
       " '_i7': '解决办法是生成一个a的副本进行操作，而不是直接用 b = a 这样的赋值语句',\n",
       " '_i70': 'globals() ##返回全部变量的字典',\n",
       " '_i8': 'a = [1,2,3]\\nb = a[:]\\nb[0] = 2',\n",
       " '_i9': 'b',\n",
       " '_ih': ['',\n",
       "  '关于两个变量同时引用同一个列表',\n",
       "  'a = [1,2,3]',\n",
       "  'b = a',\n",
       "  'b[0] = 2',\n",
       "  'b',\n",
       "  'a',\n",
       "  '解决办法是生成一个a的副本进行操作，而不是直接用 b = a 这样的赋值语句',\n",
       "  'a = [1,2,3]\\nb = a[:]\\nb[0] = 2',\n",
       "  'b',\n",
       "  'a',\n",
       "  \"labels = 'REN','TONG','XIN'\",\n",
       "  \"labels = 'REN','TONG','XIN'\\nlabels\",\n",
       "  \"labels = 'REN','TONG','XIN'\\nlabels\",\n",
       "  \"def HelloWorld(name = 'REN TONG XIN',greeting = 'Hello, ')\\n    print(greeting,name)\",\n",
       "  \"def HelloWorld(name = 'REN TONG XIN',greeting = 'Hello, ')：\\n    print(greeting,name)\",\n",
       "  \"def HelloWorld(name = 'REN TONG XIN',greeting = 'Hello, '):\\n    print(greeting,name)\",\n",
       "  'HelloWorld',\n",
       "  'HelloWorld()',\n",
       "  'HelloWorld(greeting= \"Hi\",name=\\'RTX\\')',\n",
       "  'HelloWorld(greeting= \"Hi,\",name=\\'RTX\\')',\n",
       "  'def PrintParam(x,y,z=3,*pospar,**keypar):\\n    print(x,y,z)\\n    print(pospar)\\n    print(keypar)',\n",
       "  \"PrintParam(1,2,4,5,6,a = 'Ren',b =3)\",\n",
       "  \"def story(**kwds):\\n    return 'Once upon a time, there was a %(job)s called %(name)s.' %kwds\",\n",
       "  \"story(job = 'Teacher',name = 'Rtx')\",\n",
       "  \"print(story(job = 'Teacher',name = 'Rtx'))\",\n",
       "  \"params = {'job':'Language','name':'Python'}\",\n",
       "  'print(story(**params))',\n",
       "  \"Names = ['an','bb','se','er']\\nages = [12,34,56,1]\",\n",
       "  \"for name age in zip(Names,ages):\\n    pring(name,'is',age,'years old.')\",\n",
       "  \"for name, age in zip(Names,ages):\\n    pring(name,'is',age,'years old.')\",\n",
       "  \"for name, age in zip(Names,ages):\\n    pring(tame,'is',age,'years old.')\",\n",
       "  \"for name, age in zip(Names,ages):\\n    print(tame,'is',age,'years old.')\",\n",
       "  \"for name, age in zip(Names,ages):\\n    print(name,'is',age,'years old.')\",\n",
       "  \"for name, age in zip(Names,ages):\\n    print(name,'is',age,'years old.\\\\n')\",\n",
       "  \"Names = ['An','Bb','Se','Er']\\nages = [12,34,56,1]\",\n",
       "  \"for name, age in zip(Names,ages):\\n    print(name,'is',age,'years old.\\\\n')\",\n",
       "  \"for name, age in zip(Names,ages):\\n    print(name,'is',age,'years old.\\\\')\",\n",
       "  \"for name, age in zip(Names,ages):\\n    print(name,'is',age,'years old.')\",\n",
       "  \"for name, age in zip(Names,ages):\\n    print(name,'is',age,'years old.\\\\lambda')\",\n",
       "  \"for name, age in zip(Names,ages):\\n    print(name,'is',age,'years old.')\",\n",
       "  'vars()',\n",
       "  'scope = vars()',\n",
       "  'scope.Names',\n",
       "  \"scope['Names']\",\n",
       "  'def combine(parameter):\\n    print(parameter + globalcode)',\n",
       "  \"combine('123')\",\n",
       "  \"globalcode = '2'\\ndef combine(parameter):\\n    print(parameter + globalcode)\",\n",
       "  \"combine('123')\",\n",
       "  \"globalcode = '2'\\ndef combine(parameter):\\n    print(parameter + global globalcode)\",\n",
       "  \"globalcode = '2'\\ndef combine(parameter):\\n    global globalcode\\n    print(parameter +  globalcode)\",\n",
       "  \"combine('123')\",\n",
       "  'scope = vars()',\n",
       "  \"scope['Names']\",\n",
       "  \"globalcode = '2'\\ndef combine(parameter):\\n    global globalcode\\n    print(parameter +  globalcode)\",\n",
       "  \"combine('123')\",\n",
       "  \"scope['Names']\",\n",
       "  \"globalcode = '2'\\ndef combine(parameter):\\n    print(parameter +  globalcode)\",\n",
       "  \"combine('123')\",\n",
       "  'def change_global():\\n    global x\\n    x = x + 1',\n",
       "  'x = 1',\n",
       "  'change_global(x)',\n",
       "  'change_global()',\n",
       "  'x',\n",
       "  'def change_global():\\n    global y\\n    y = x + 1',\n",
       "  'x = 1',\n",
       "  'change_global()',\n",
       "  'x',\n",
       "  'y',\n",
       "  'globals()',\n",
       "  'globals() ##返回全部变量的字典'],\n",
       " '_ii': 'y',\n",
       " '_iii': 'x',\n",
       " '_oh': {5: [2, 2, 3],\n",
       "  6: [2, 2, 3],\n",
       "  9: [2, 2, 3],\n",
       "  10: [1, 2, 3],\n",
       "  12: ('REN', 'TONG', 'XIN'),\n",
       "  13: ('REN', 'TONG', 'XIN'),\n",
       "  17: <function __main__.HelloWorld>,\n",
       "  24: 'Once upon a time, there was a Teacher called Rtx.',\n",
       "  41: {...},\n",
       "  44: ['An', 'Bb', 'Se', 'Er'],\n",
       "  53: ['An', 'Bb', 'Se', 'Er'],\n",
       "  56: ['An', 'Bb', 'Se', 'Er'],\n",
       "  63: 2,\n",
       "  67: 1,\n",
       "  68: 2,\n",
       "  69: {...}},\n",
       " '_sh': <module 'IPython.core.shadowns' from 'D:\\\\Anaconda\\\\lib\\\\site-packages\\\\IPython\\\\core\\\\shadowns.py'>,\n",
       " 'a': [1, 2, 3],\n",
       " 'age': 1,\n",
       " 'ages': [12, 34, 56, 1],\n",
       " 'b': [2, 2, 3],\n",
       " 'change_global': <function __main__.change_global>,\n",
       " 'combine': <function __main__.combine>,\n",
       " 'exit': <IPython.core.autocall.ZMQExitAutocall at 0x270bf2f0dd8>,\n",
       " 'get_ipython': <bound method InteractiveShell.get_ipython of <ipykernel.zmqshell.ZMQInteractiveShell object at 0x00000270BF2F0E80>>,\n",
       " 'globalcode': '2',\n",
       " 'labels': ('REN', 'TONG', 'XIN'),\n",
       " 'name': 'Er',\n",
       " 'params': {'job': 'Language', 'name': 'Python'},\n",
       " 'quit': <IPython.core.autocall.ZMQExitAutocall at 0x270bf2f0dd8>,\n",
       " 'scope': {...},\n",
       " 'story': <function __main__.story>,\n",
       " 'x': 1,\n",
       " 'y': 2}"
      ]
     },
     "execution_count": 70,
     "metadata": {},
     "output_type": "execute_result"
    }
   ],
   "source": [
    "globals() ##返回全部变量的字典"
   ]
  }
 ],
 "metadata": {
  "anaconda-cloud": {},
  "kernelspec": {
   "display_name": "Python [conda env:Anaconda]",
   "language": "python",
   "name": "conda-env-Anaconda-py"
  },
  "language_info": {
   "codemirror_mode": {
    "name": "ipython",
    "version": 3
   },
   "file_extension": ".py",
   "mimetype": "text/x-python",
   "name": "python",
   "nbconvert_exporter": "python",
   "pygments_lexer": "ipython3",
   "version": "3.5.2"
  }
 },
 "nbformat": 4,
 "nbformat_minor": 1
}
